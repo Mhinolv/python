{
 "cells": [
  {
   "cell_type": "code",
   "execution_count": 11,
   "id": "ebf6c0e5-7217-44a4-bbc6-4950f95c3150",
   "metadata": {},
   "outputs": [],
   "source": [
    "import pandas as pd\n",
    "import names as nms\n",
    "from pandas import DataFrame, Series\n",
    "from matplotlib import pyplot as plt\n",
    "import seaborn as sns\n",
    "import numpy as np\n",
    "import uuid\n",
    "import datetime"
   ]
  },
  {
   "cell_type": "markdown",
   "id": "d81a9276-fa87-41b8-b989-a2d8ff338375",
   "metadata": {},
   "source": [
    "## Method 1"
   ]
  },
  {
   "cell_type": "markdown",
   "id": "f9c100d8-117b-4d71-ac42-44128660fcce",
   "metadata": {},
   "source": [
    "Create the initial data frame and add the subsquent columns after"
   ]
  },
  {
   "cell_type": "code",
   "execution_count": 12,
   "id": "177ade43-4573-45ab-8ae5-6995e8cb7e18",
   "metadata": {},
   "outputs": [],
   "source": [
    "np.random.seed(30)"
   ]
  },
  {
   "cell_type": "code",
   "execution_count": 13,
   "id": "a1e06857-5385-48fc-a43d-40afe4cd6e6c",
   "metadata": {},
   "outputs": [],
   "source": [
    "df = DataFrame(np.random.rand(20).reshape(10,2),\n",
    "              columns=['Current_Score', 'Last_Score']).round(2)"
   ]
  },
  {
   "cell_type": "code",
   "execution_count": 14,
   "id": "67a8ff0a-8904-4c5c-bfa0-46cc8a5ac065",
   "metadata": {},
   "outputs": [],
   "source": [
    "namesArray = []\n",
    "\n",
    "for _ in range(10):\n",
    "    namesArray.append(nms.get_full_name())"
   ]
  },
  {
   "cell_type": "code",
   "execution_count": 16,
   "id": "8c502a30-1f5f-4c36-94c6-546c62837c90",
   "metadata": {},
   "outputs": [],
   "source": [
    "df['Student_Name'] = namesArray"
   ]
  },
  {
   "cell_type": "code",
   "execution_count": 17,
   "id": "0f13a432-1697-4190-a6e8-541f87683e2c",
   "metadata": {},
   "outputs": [],
   "source": [
    "for name in df['Student_Name'].unique():\n",
    "    df.loc[df['Student_Name'] == name, 'User_ID'] = uuid.uuid4()"
   ]
  },
  {
   "cell_type": "code",
   "execution_count": 18,
   "id": "bd0f45a3-bb60-48a4-ad48-dc37dcac70e5",
   "metadata": {},
   "outputs": [],
   "source": [
    "teacherArray = []\n",
    "for _ in range(10):\n",
    "    teacherArray.append(nms.get_full_name())"
   ]
  },
  {
   "cell_type": "code",
   "execution_count": 19,
   "id": "4e8af05b-35a3-4513-9d50-63541168c1a8",
   "metadata": {},
   "outputs": [],
   "source": [
    "df['Teacher_Name'] = teacherArray"
   ]
  },
  {
   "cell_type": "code",
   "execution_count": 21,
   "id": "a5c4ae75-a7d7-4efe-87bd-77894aced53e",
   "metadata": {},
   "outputs": [],
   "source": [
    "df = df[['User_ID', 'Student_Name','Last_Score','Current_Score', 'Teacher_Name']]"
   ]
  },
  {
   "cell_type": "code",
   "execution_count": 22,
   "id": "66396892-cd1d-452b-a3a9-08258b2e3b14",
   "metadata": {},
   "outputs": [
    {
     "data": {
      "text/html": [
       "<div>\n",
       "<style scoped>\n",
       "    .dataframe tbody tr th:only-of-type {\n",
       "        vertical-align: middle;\n",
       "    }\n",
       "\n",
       "    .dataframe tbody tr th {\n",
       "        vertical-align: top;\n",
       "    }\n",
       "\n",
       "    .dataframe thead th {\n",
       "        text-align: right;\n",
       "    }\n",
       "</style>\n",
       "<table border=\"1\" class=\"dataframe\">\n",
       "  <thead>\n",
       "    <tr style=\"text-align: right;\">\n",
       "      <th></th>\n",
       "      <th>User_ID</th>\n",
       "      <th>Student_Name</th>\n",
       "      <th>Last_Score</th>\n",
       "      <th>Current_Score</th>\n",
       "      <th>Teacher_Name</th>\n",
       "    </tr>\n",
       "  </thead>\n",
       "  <tbody>\n",
       "    <tr>\n",
       "      <th>0</th>\n",
       "      <td>40f0700b-ee0d-4b75-be27-bf98b3aa5c3f</td>\n",
       "      <td>Mona Clewis</td>\n",
       "      <td>0.38</td>\n",
       "      <td>0.64</td>\n",
       "      <td>Debra Tucker</td>\n",
       "    </tr>\n",
       "    <tr>\n",
       "      <th>1</th>\n",
       "      <td>58e40ae8-9281-49ba-a16c-3a5bbd530b9b</td>\n",
       "      <td>Nancy Taylor</td>\n",
       "      <td>0.16</td>\n",
       "      <td>0.66</td>\n",
       "      <td>Amanda Davis</td>\n",
       "    </tr>\n",
       "    <tr>\n",
       "      <th>2</th>\n",
       "      <td>2fd925e3-cca3-49b1-bb4c-7fb0a77e94b7</td>\n",
       "      <td>Rosa Jones</td>\n",
       "      <td>0.35</td>\n",
       "      <td>0.96</td>\n",
       "      <td>Carlos Brown</td>\n",
       "    </tr>\n",
       "    <tr>\n",
       "      <th>3</th>\n",
       "      <td>3f4763e5-abef-45dd-a4bf-eaf530ac90f9</td>\n",
       "      <td>Grace Walton</td>\n",
       "      <td>0.24</td>\n",
       "      <td>0.99</td>\n",
       "      <td>Monique Steel</td>\n",
       "    </tr>\n",
       "    <tr>\n",
       "      <th>4</th>\n",
       "      <td>b0bb939d-ba74-4352-8acc-701435398eb7</td>\n",
       "      <td>Ronald Carrillo</td>\n",
       "      <td>0.41</td>\n",
       "      <td>0.59</td>\n",
       "      <td>Kathy Ephriam</td>\n",
       "    </tr>\n",
       "    <tr>\n",
       "      <th>5</th>\n",
       "      <td>be034017-a0a3-44ae-8dac-b21accea1346</td>\n",
       "      <td>Lucinda Jacobs</td>\n",
       "      <td>0.54</td>\n",
       "      <td>0.14</td>\n",
       "      <td>Gina Cummins</td>\n",
       "    </tr>\n",
       "    <tr>\n",
       "      <th>6</th>\n",
       "      <td>f799188f-d8cf-4528-9d1c-4daca47d8297</td>\n",
       "      <td>Ahmad Martinez</td>\n",
       "      <td>0.77</td>\n",
       "      <td>0.52</td>\n",
       "      <td>Katherine Mccleary</td>\n",
       "    </tr>\n",
       "    <tr>\n",
       "      <th>7</th>\n",
       "      <td>903ae105-f71e-467a-a094-2196cdc53184</td>\n",
       "      <td>Rickey Thorp</td>\n",
       "      <td>0.09</td>\n",
       "      <td>0.93</td>\n",
       "      <td>Willie Vicario</td>\n",
       "    </tr>\n",
       "    <tr>\n",
       "      <th>8</th>\n",
       "      <td>28719376-fa48-4f01-a5dd-c56d3c5f5eb9</td>\n",
       "      <td>William Walker</td>\n",
       "      <td>0.99</td>\n",
       "      <td>0.20</td>\n",
       "      <td>Russell Whitaker</td>\n",
       "    </tr>\n",
       "    <tr>\n",
       "      <th>9</th>\n",
       "      <td>328f97e4-ec6c-471f-9b96-997e148d92ce</td>\n",
       "      <td>Sheri Pedersen</td>\n",
       "      <td>0.24</td>\n",
       "      <td>0.24</td>\n",
       "      <td>Justin Beacham</td>\n",
       "    </tr>\n",
       "  </tbody>\n",
       "</table>\n",
       "</div>"
      ],
      "text/plain": [
       "                                User_ID     Student_Name  Last_Score  \\\n",
       "0  40f0700b-ee0d-4b75-be27-bf98b3aa5c3f      Mona Clewis        0.38   \n",
       "1  58e40ae8-9281-49ba-a16c-3a5bbd530b9b     Nancy Taylor        0.16   \n",
       "2  2fd925e3-cca3-49b1-bb4c-7fb0a77e94b7       Rosa Jones        0.35   \n",
       "3  3f4763e5-abef-45dd-a4bf-eaf530ac90f9     Grace Walton        0.24   \n",
       "4  b0bb939d-ba74-4352-8acc-701435398eb7  Ronald Carrillo        0.41   \n",
       "5  be034017-a0a3-44ae-8dac-b21accea1346   Lucinda Jacobs        0.54   \n",
       "6  f799188f-d8cf-4528-9d1c-4daca47d8297   Ahmad Martinez        0.77   \n",
       "7  903ae105-f71e-467a-a094-2196cdc53184     Rickey Thorp        0.09   \n",
       "8  28719376-fa48-4f01-a5dd-c56d3c5f5eb9   William Walker        0.99   \n",
       "9  328f97e4-ec6c-471f-9b96-997e148d92ce   Sheri Pedersen        0.24   \n",
       "\n",
       "   Current_Score        Teacher_Name  \n",
       "0           0.64        Debra Tucker  \n",
       "1           0.66        Amanda Davis  \n",
       "2           0.96        Carlos Brown  \n",
       "3           0.99       Monique Steel  \n",
       "4           0.59       Kathy Ephriam  \n",
       "5           0.14        Gina Cummins  \n",
       "6           0.52  Katherine Mccleary  \n",
       "7           0.93      Willie Vicario  \n",
       "8           0.20    Russell Whitaker  \n",
       "9           0.24      Justin Beacham  "
      ]
     },
     "execution_count": 22,
     "metadata": {},
     "output_type": "execute_result"
    }
   ],
   "source": [
    "df"
   ]
  },
  {
   "cell_type": "code",
   "execution_count": 23,
   "id": "2d5736c9-a1d4-463d-ac39-220120298237",
   "metadata": {},
   "outputs": [
    {
     "data": {
      "image/png": "[encoded data removed]",
      "text/plain": [
       "<Figure size 640x480 with 1 Axes>"
      ]
     },
     "metadata": {},
     "output_type": "display_data"
    }
   ],
   "source": [
    "sns.boxplot(data=df)\n",
    "plt.show()"
   ]
  },
  {
   "cell_type": "markdown",
   "id": "61327553-948d-42de-b54a-fbff5220b374",
   "metadata": {},
   "source": [
    "## Method 2"
   ]
  },
  {
   "cell_type": "markdown",
   "id": "75303979-c54c-4fc8-81be-db92be679f90",
   "metadata": {},
   "source": [
    "Generate the arrays of data and compile the DataFrame using the arrays"
   ]
  },
  {
   "cell_type": "code",
   "execution_count": 29,
   "id": "e79f5a7b-c622-447f-a371-da9fdaa54459",
   "metadata": {},
   "outputs": [],
   "source": [
    "np.random.seed(20)\n",
    "numArray = np.random.rand(10).round(2)\n",
    "\n",
    "np.random.seed(25)\n",
    "numArray2 = np.random.rand(10).round(2)"
   ]
  },
  {
   "cell_type": "code",
   "execution_count": 30,
   "id": "29f8050a-4d53-4c02-8883-869bed3a1fe3",
   "metadata": {},
   "outputs": [],
   "source": [
    "nameArray = []\n",
    "\n",
    "for _ in numArray:\n",
    "    nameArray.append(nms.get_full_name())\n",
    "\n",
    "nameArray2 = []\n",
    "\n",
    "for _ in numArray:\n",
    "    nameArray2.append(nms.get_full_name())"
   ]
  },
  {
   "cell_type": "code",
   "execution_count": 31,
   "id": "4fd0f457-8e17-45c4-b485-5d975d99be0a",
   "metadata": {},
   "outputs": [],
   "source": [
    "startDate = datetime.datetime.strptime(\"10-1-2023\", \"%d-%m-%Y\")\n",
    "date_generated = pd.date_range(startDate, periods=len(numArray))"
   ]
  },
  {
   "cell_type": "code",
   "execution_count": 32,
   "id": "5e75ea93-b599-47d8-a3ce-ffb341fdec38",
   "metadata": {},
   "outputs": [],
   "source": [
    "uuidArray = []\n",
    "for _ in numArray:\n",
    "    uuidArray.append(uuid.uuid4().clock_seq)\n",
    "\n",
    "uuidArray2 = []\n",
    "for _ in numArray:\n",
    "    uuidArray2.append(uuid.uuid4().clock_seq)"
   ]
  },
  {
   "cell_type": "code",
   "execution_count": 33,
   "id": "5037535c-e58a-45e3-af37-b36550803d99",
   "metadata": {},
   "outputs": [],
   "source": [
    "df2 = DataFrame({'Student_ID' : uuidArray,\n",
    "                'Student_Name': nameArray,\n",
    "                'Last_Score' : numArray,\n",
    "                'Current_Score' : numArray2,\n",
    "                'Test_Date' : date_generated,\n",
    "                'Teacher_Name' : nameArray2,\n",
    "                'Teacher_ID' : uuidArray2})"
   ]
  },
  {
   "cell_type": "code",
   "execution_count": 34,
   "id": "a580588e-b691-43d6-bb36-f8d771a1eb59",
   "metadata": {},
   "outputs": [
    {
     "data": {
      "text/html": [
       "<div>\n",
       "<style scoped>\n",
       "    .dataframe tbody tr th:only-of-type {\n",
       "        vertical-align: middle;\n",
       "    }\n",
       "\n",
       "    .dataframe tbody tr th {\n",
       "        vertical-align: top;\n",
       "    }\n",
       "\n",
       "    .dataframe thead th {\n",
       "        text-align: right;\n",
       "    }\n",
       "</style>\n",
       "<table border=\"1\" class=\"dataframe\">\n",
       "  <thead>\n",
       "    <tr style=\"text-align: right;\">\n",
       "      <th></th>\n",
       "      <th>Student_ID</th>\n",
       "      <th>Student_Name</th>\n",
       "      <th>Last_Score</th>\n",
       "      <th>Current_Score</th>\n",
       "      <th>Test_Date</th>\n",
       "      <th>Teacher_Name</th>\n",
       "      <th>Teacher_ID</th>\n",
       "    </tr>\n",
       "  </thead>\n",
       "  <tbody>\n",
       "    <tr>\n",
       "      <th>0</th>\n",
       "      <td>6284</td>\n",
       "      <td>Dorothy Gough</td>\n",
       "      <td>0.59</td>\n",
       "      <td>0.87</td>\n",
       "      <td>2023-01-10</td>\n",
       "      <td>Jason Swenson</td>\n",
       "      <td>12014</td>\n",
       "    </tr>\n",
       "    <tr>\n",
       "      <th>1</th>\n",
       "      <td>9208</td>\n",
       "      <td>Robert Wilson</td>\n",
       "      <td>0.90</td>\n",
       "      <td>0.58</td>\n",
       "      <td>2023-01-11</td>\n",
       "      <td>Michelle Heffner</td>\n",
       "      <td>7821</td>\n",
       "    </tr>\n",
       "    <tr>\n",
       "      <th>2</th>\n",
       "      <td>15620</td>\n",
       "      <td>Leonel Nelson</td>\n",
       "      <td>0.89</td>\n",
       "      <td>0.28</td>\n",
       "      <td>2023-01-12</td>\n",
       "      <td>Donna Symons</td>\n",
       "      <td>11377</td>\n",
       "    </tr>\n",
       "    <tr>\n",
       "      <th>3</th>\n",
       "      <td>5039</td>\n",
       "      <td>Donald Jordan</td>\n",
       "      <td>0.82</td>\n",
       "      <td>0.19</td>\n",
       "      <td>2023-01-13</td>\n",
       "      <td>Gregory Ramirez</td>\n",
       "      <td>13160</td>\n",
       "    </tr>\n",
       "    <tr>\n",
       "      <th>4</th>\n",
       "      <td>6250</td>\n",
       "      <td>Janice Samples</td>\n",
       "      <td>0.04</td>\n",
       "      <td>0.41</td>\n",
       "      <td>2023-01-14</td>\n",
       "      <td>Mary Guyton</td>\n",
       "      <td>12127</td>\n",
       "    </tr>\n",
       "    <tr>\n",
       "      <th>5</th>\n",
       "      <td>11971</td>\n",
       "      <td>Barry Rodriguez</td>\n",
       "      <td>0.69</td>\n",
       "      <td>0.12</td>\n",
       "      <td>2023-01-15</td>\n",
       "      <td>Peter Triplett</td>\n",
       "      <td>6019</td>\n",
       "    </tr>\n",
       "    <tr>\n",
       "      <th>6</th>\n",
       "      <td>4523</td>\n",
       "      <td>Alta Prince</td>\n",
       "      <td>0.38</td>\n",
       "      <td>0.68</td>\n",
       "      <td>2023-01-16</td>\n",
       "      <td>Shay Valentine</td>\n",
       "      <td>10659</td>\n",
       "    </tr>\n",
       "    <tr>\n",
       "      <th>7</th>\n",
       "      <td>3425</td>\n",
       "      <td>Nancy Bosma</td>\n",
       "      <td>0.52</td>\n",
       "      <td>0.44</td>\n",
       "      <td>2023-01-17</td>\n",
       "      <td>John Baxter</td>\n",
       "      <td>4597</td>\n",
       "    </tr>\n",
       "    <tr>\n",
       "      <th>8</th>\n",
       "      <td>10173</td>\n",
       "      <td>Matthew Reeves</td>\n",
       "      <td>0.66</td>\n",
       "      <td>0.56</td>\n",
       "      <td>2023-01-18</td>\n",
       "      <td>Theresa Key</td>\n",
       "      <td>6395</td>\n",
       "    </tr>\n",
       "    <tr>\n",
       "      <th>9</th>\n",
       "      <td>3020</td>\n",
       "      <td>Theresa Claar</td>\n",
       "      <td>0.19</td>\n",
       "      <td>0.37</td>\n",
       "      <td>2023-01-19</td>\n",
       "      <td>Ryan Miles</td>\n",
       "      <td>6900</td>\n",
       "    </tr>\n",
       "  </tbody>\n",
       "</table>\n",
       "</div>"
      ],
      "text/plain": [
       "   Student_ID     Student_Name  Last_Score  Current_Score  Test_Date  \\\n",
       "0        6284    Dorothy Gough        0.59           0.87 2023-01-10   \n",
       "1        9208    Robert Wilson        0.90           0.58 2023-01-11   \n",
       "2       15620    Leonel Nelson        0.89           0.28 2023-01-12   \n",
       "3        5039    Donald Jordan        0.82           0.19 2023-01-13   \n",
       "4        6250   Janice Samples        0.04           0.41 2023-01-14   \n",
       "5       11971  Barry Rodriguez        0.69           0.12 2023-01-15   \n",
       "6        4523      Alta Prince        0.38           0.68 2023-01-16   \n",
       "7        3425      Nancy Bosma        0.52           0.44 2023-01-17   \n",
       "8       10173   Matthew Reeves        0.66           0.56 2023-01-18   \n",
       "9        3020    Theresa Claar        0.19           0.37 2023-01-19   \n",
       "\n",
       "       Teacher_Name  Teacher_ID  \n",
       "0     Jason Swenson       12014  \n",
       "1  Michelle Heffner        7821  \n",
       "2      Donna Symons       11377  \n",
       "3   Gregory Ramirez       13160  \n",
       "4       Mary Guyton       12127  \n",
       "5    Peter Triplett        6019  \n",
       "6    Shay Valentine       10659  \n",
       "7       John Baxter        4597  \n",
       "8       Theresa Key        6395  \n",
       "9        Ryan Miles        6900  "
      ]
     },
     "execution_count": 34,
     "metadata": {},
     "output_type": "execute_result"
    }
   ],
   "source": [
    "df2"
   ]
  },
  {
   "cell_type": "code",
   "execution_count": 35,
   "id": "acbcf348-3b4e-496f-9033-d78fe2df0c64",
   "metadata": {},
   "outputs": [
    {
     "data": {
      "text/plain": [
       "<Axes: >"
      ]
     },
     "execution_count": 35,
     "metadata": {},
     "output_type": "execute_result"
    },
    {
     "data": {
      "image/png": "[encoded data removed]",
      "text/plain": [
       "<Figure size 640x480 with 1 Axes>"
      ]
     },
     "metadata": {},
     "output_type": "display_data"
    }
   ],
   "source": [
    "sns.boxplot(data=df[['Last_Score', 'Current_Score']])"
   ]
  }
 ],
 "metadata": {
  "kernelspec": {
   "display_name": "Python 3 (ipykernel)",
   "language": "python",
   "name": "python3"
  },
  "language_info": {
   "codemirror_mode": {
    "name": "ipython",
    "version": 3
   },
   "file_extension": ".py",
   "mimetype": "text/x-python",
   "name": "python",
   "nbconvert_exporter": "python",
   "pygments_lexer": "ipython3",
   "version": "3.9.6"
  }
 },
 "nbformat": 4,
 "nbformat_minor": 5
}
