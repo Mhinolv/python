{
 "cells": [
  {
   "cell_type": "code",
   "execution_count": 47,
   "id": "ebf6c0e5-7217-44a4-bbc6-4950f95c3150",
   "metadata": {},
   "outputs": [],
   "source": [
    "import pandas as pd\n",
    "import names as nms\n",
    "from pandas import DataFrame, Series\n",
    "from matplotlib import pyplot as plt\n",
    "import seaborn as sns\n",
    "import numpy as np\n",
    "import uuid"
   ]
  },
  {
   "cell_type": "code",
   "execution_count": 16,
   "id": "177ade43-4573-45ab-8ae5-6995e8cb7e18",
   "metadata": {},
   "outputs": [],
   "source": [
    "np.random.seed(30)"
   ]
  },
  {
   "cell_type": "code",
   "execution_count": 17,
   "id": "a1e06857-5385-48fc-a43d-40afe4cd6e6c",
   "metadata": {},
   "outputs": [],
   "source": [
    "df = DataFrame(np.random.rand(20).reshape(10,2),\n",
    "              columns=['Current_Score', 'Last_Score']).round(2)"
   ]
  },
  {
   "cell_type": "code",
   "execution_count": 18,
   "id": "3c52e023-5147-4488-b01f-8ab047357c9a",
   "metadata": {},
   "outputs": [
    {
     "data": {
      "text/html": [
       "<div>\n",
       "<style scoped>\n",
       "    .dataframe tbody tr th:only-of-type {\n",
       "        vertical-align: middle;\n",
       "    }\n",
       "\n",
       "    .dataframe tbody tr th {\n",
       "        vertical-align: top;\n",
       "    }\n",
       "\n",
       "    .dataframe thead th {\n",
       "        text-align: right;\n",
       "    }\n",
       "</style>\n",
       "<table border=\"1\" class=\"dataframe\">\n",
       "  <thead>\n",
       "    <tr style=\"text-align: right;\">\n",
       "      <th></th>\n",
       "      <th>Current_Score</th>\n",
       "      <th>Last Score</th>\n",
       "    </tr>\n",
       "  </thead>\n",
       "  <tbody>\n",
       "    <tr>\n",
       "      <th>0</th>\n",
       "      <td>0.64</td>\n",
       "      <td>0.38</td>\n",
       "    </tr>\n",
       "    <tr>\n",
       "      <th>1</th>\n",
       "      <td>0.66</td>\n",
       "      <td>0.16</td>\n",
       "    </tr>\n",
       "    <tr>\n",
       "      <th>2</th>\n",
       "      <td>0.96</td>\n",
       "      <td>0.35</td>\n",
       "    </tr>\n",
       "    <tr>\n",
       "      <th>3</th>\n",
       "      <td>0.99</td>\n",
       "      <td>0.24</td>\n",
       "    </tr>\n",
       "    <tr>\n",
       "      <th>4</th>\n",
       "      <td>0.59</td>\n",
       "      <td>0.41</td>\n",
       "    </tr>\n",
       "    <tr>\n",
       "      <th>5</th>\n",
       "      <td>0.14</td>\n",
       "      <td>0.54</td>\n",
       "    </tr>\n",
       "    <tr>\n",
       "      <th>6</th>\n",
       "      <td>0.52</td>\n",
       "      <td>0.77</td>\n",
       "    </tr>\n",
       "    <tr>\n",
       "      <th>7</th>\n",
       "      <td>0.93</td>\n",
       "      <td>0.09</td>\n",
       "    </tr>\n",
       "    <tr>\n",
       "      <th>8</th>\n",
       "      <td>0.20</td>\n",
       "      <td>0.99</td>\n",
       "    </tr>\n",
       "    <tr>\n",
       "      <th>9</th>\n",
       "      <td>0.24</td>\n",
       "      <td>0.24</td>\n",
       "    </tr>\n",
       "  </tbody>\n",
       "</table>\n",
       "</div>"
      ],
      "text/plain": [
       "   Current_Score  Last Score\n",
       "0           0.64        0.38\n",
       "1           0.66        0.16\n",
       "2           0.96        0.35\n",
       "3           0.99        0.24\n",
       "4           0.59        0.41\n",
       "5           0.14        0.54\n",
       "6           0.52        0.77\n",
       "7           0.93        0.09\n",
       "8           0.20        0.99\n",
       "9           0.24        0.24"
      ]
     },
     "execution_count": 18,
     "metadata": {},
     "output_type": "execute_result"
    }
   ],
   "source": [
    "df"
   ]
  },
  {
   "cell_type": "code",
   "execution_count": 19,
   "id": "67a8ff0a-8904-4c5c-bfa0-46cc8a5ac065",
   "metadata": {},
   "outputs": [],
   "source": [
    "namesArray = []\n",
    "\n",
    "for _ in range(10):\n",
    "    namesArray.append(nms.get_full_name())"
   ]
  },
  {
   "cell_type": "code",
   "execution_count": 20,
   "id": "8c502a30-1f5f-4c36-94c6-546c62837c90",
   "metadata": {},
   "outputs": [],
   "source": [
    "df['Student_Name'] = namesArray"
   ]
  },
  {
   "cell_type": "code",
   "execution_count": 21,
   "id": "0f13a432-1697-4190-a6e8-541f87683e2c",
   "metadata": {},
   "outputs": [],
   "source": [
    "for name in df['Student_Name'].unique():\n",
    "    df.loc[df['Student_Name'] == name, 'User_ID'] = uuid.uuid4()"
   ]
  },
  {
   "cell_type": "code",
   "execution_count": 30,
   "id": "bd0f45a3-bb60-48a4-ad48-dc37dcac70e5",
   "metadata": {},
   "outputs": [],
   "source": [
    "teacherArray = []\n",
    "for _ in range(10):\n",
    "    teacherArray.append(nms.get_full_name())"
   ]
  },
  {
   "cell_type": "code",
   "execution_count": 31,
   "id": "4e8af05b-35a3-4513-9d50-63541168c1a8",
   "metadata": {},
   "outputs": [],
   "source": [
    "df['Teacher_Name'] = teacherArray"
   ]
  },
  {
   "cell_type": "code",
   "execution_count": 33,
   "id": "a5c4ae75-a7d7-4efe-87bd-77894aced53e",
   "metadata": {},
   "outputs": [],
   "source": [
    "df = df[['User_ID', 'Student_Name','Last Score','Current_Score', 'Teacher_Name']]f"
   ]
  },
  {
   "cell_type": "code",
   "execution_count": 34,
   "id": "66396892-cd1d-452b-a3a9-08258b2e3b14",
   "metadata": {},
   "outputs": [
    {
     "data": {
      "text/html": [
       "<div>\n",
       "<style scoped>\n",
       "    .dataframe tbody tr th:only-of-type {\n",
       "        vertical-align: middle;\n",
       "    }\n",
       "\n",
       "    .dataframe tbody tr th {\n",
       "        vertical-align: top;\n",
       "    }\n",
       "\n",
       "    .dataframe thead th {\n",
       "        text-align: right;\n",
       "    }\n",
       "</style>\n",
       "<table border=\"1\" class=\"dataframe\">\n",
       "  <thead>\n",
       "    <tr style=\"text-align: right;\">\n",
       "      <th></th>\n",
       "      <th>User_ID</th>\n",
       "      <th>Student_Name</th>\n",
       "      <th>Last Score</th>\n",
       "      <th>Current_Score</th>\n",
       "      <th>Teacher_Name</th>\n",
       "    </tr>\n",
       "  </thead>\n",
       "  <tbody>\n",
       "    <tr>\n",
       "      <th>0</th>\n",
       "      <td>e63cac82-5902-4b5a-a2a3-cf54205ddf09</td>\n",
       "      <td>Alexandria Silva</td>\n",
       "      <td>0.38</td>\n",
       "      <td>0.64</td>\n",
       "      <td>Joseph Dickson</td>\n",
       "    </tr>\n",
       "    <tr>\n",
       "      <th>1</th>\n",
       "      <td>96369a49-7a8e-4773-a927-ddb9fb6fc9cf</td>\n",
       "      <td>Ann Ware</td>\n",
       "      <td>0.16</td>\n",
       "      <td>0.66</td>\n",
       "      <td>Alice Beggs</td>\n",
       "    </tr>\n",
       "    <tr>\n",
       "      <th>2</th>\n",
       "      <td>fffbf933-c453-4fb0-8927-ac10260a749d</td>\n",
       "      <td>Jane Burns</td>\n",
       "      <td>0.35</td>\n",
       "      <td>0.96</td>\n",
       "      <td>Lorene Reed</td>\n",
       "    </tr>\n",
       "    <tr>\n",
       "      <th>3</th>\n",
       "      <td>75ea56c7-db38-440b-88f3-a842ab1c9912</td>\n",
       "      <td>Rose Pawloski</td>\n",
       "      <td>0.24</td>\n",
       "      <td>0.99</td>\n",
       "      <td>Harold Greer</td>\n",
       "    </tr>\n",
       "    <tr>\n",
       "      <th>4</th>\n",
       "      <td>48c9d1df-c49c-496b-9d4b-6b1d117867a3</td>\n",
       "      <td>Christopher Arias</td>\n",
       "      <td>0.41</td>\n",
       "      <td>0.59</td>\n",
       "      <td>Lillian Danner</td>\n",
       "    </tr>\n",
       "    <tr>\n",
       "      <th>5</th>\n",
       "      <td>a54cf47c-c5c9-47dc-a309-85ca8060f5c5</td>\n",
       "      <td>Jimmy Peterson</td>\n",
       "      <td>0.54</td>\n",
       "      <td>0.14</td>\n",
       "      <td>David Steck</td>\n",
       "    </tr>\n",
       "    <tr>\n",
       "      <th>6</th>\n",
       "      <td>92d3d5d5-16e2-4073-9ae5-a72b8b155d3d</td>\n",
       "      <td>Mary Harms</td>\n",
       "      <td>0.77</td>\n",
       "      <td>0.52</td>\n",
       "      <td>Brooke Mclaughlin</td>\n",
       "    </tr>\n",
       "    <tr>\n",
       "      <th>7</th>\n",
       "      <td>cc815d3e-ee41-41fc-b2e8-b16667e2a9c7</td>\n",
       "      <td>Lori Chall</td>\n",
       "      <td>0.09</td>\n",
       "      <td>0.93</td>\n",
       "      <td>Ronald Williams</td>\n",
       "    </tr>\n",
       "    <tr>\n",
       "      <th>8</th>\n",
       "      <td>f7f3978d-0524-4bdd-a34f-1fac9d626f0b</td>\n",
       "      <td>Colin Kinghorn</td>\n",
       "      <td>0.99</td>\n",
       "      <td>0.20</td>\n",
       "      <td>Leonard Zolezzi</td>\n",
       "    </tr>\n",
       "    <tr>\n",
       "      <th>9</th>\n",
       "      <td>a1e7fbee-60a4-4e6f-b677-a42231d9495e</td>\n",
       "      <td>Beverly Nocera</td>\n",
       "      <td>0.24</td>\n",
       "      <td>0.24</td>\n",
       "      <td>Barbara Mcqueen</td>\n",
       "    </tr>\n",
       "  </tbody>\n",
       "</table>\n",
       "</div>"
      ],
      "text/plain": [
       "                                User_ID       Student_Name  Last Score  \\\n",
       "0  e63cac82-5902-4b5a-a2a3-cf54205ddf09   Alexandria Silva        0.38   \n",
       "1  96369a49-7a8e-4773-a927-ddb9fb6fc9cf           Ann Ware        0.16   \n",
       "2  fffbf933-c453-4fb0-8927-ac10260a749d         Jane Burns        0.35   \n",
       "3  75ea56c7-db38-440b-88f3-a842ab1c9912      Rose Pawloski        0.24   \n",
       "4  48c9d1df-c49c-496b-9d4b-6b1d117867a3  Christopher Arias        0.41   \n",
       "5  a54cf47c-c5c9-47dc-a309-85ca8060f5c5     Jimmy Peterson        0.54   \n",
       "6  92d3d5d5-16e2-4073-9ae5-a72b8b155d3d         Mary Harms        0.77   \n",
       "7  cc815d3e-ee41-41fc-b2e8-b16667e2a9c7         Lori Chall        0.09   \n",
       "8  f7f3978d-0524-4bdd-a34f-1fac9d626f0b     Colin Kinghorn        0.99   \n",
       "9  a1e7fbee-60a4-4e6f-b677-a42231d9495e     Beverly Nocera        0.24   \n",
       "\n",
       "   Current_Score       Teacher_Name  \n",
       "0           0.64     Joseph Dickson  \n",
       "1           0.66        Alice Beggs  \n",
       "2           0.96        Lorene Reed  \n",
       "3           0.99       Harold Greer  \n",
       "4           0.59     Lillian Danner  \n",
       "5           0.14        David Steck  \n",
       "6           0.52  Brooke Mclaughlin  \n",
       "7           0.93    Ronald Williams  \n",
       "8           0.20    Leonard Zolezzi  \n",
       "9           0.24    Barbara Mcqueen  "
      ]
     },
     "execution_count": 34,
     "metadata": {},
     "output_type": "execute_result"
    }
   ],
   "source": [
    "df"
   ]
  },
  {
   "cell_type": "code",
   "execution_count": 49,
   "id": "2d5736c9-a1d4-463d-ac39-220120298237",
   "metadata": {},
   "outputs": [
    {
     "data": {
      "image/png": "[encoded data removed]",
      "text/plain": [
       "<Figure size 640x480 with 1 Axes>"
      ]
     },
     "metadata": {},
     "output_type": "display_data"
    }
   ],
   "source": [
    "sns.boxplot(data=df)\n",
    "plt.show()"
   ]
  }
 ],
 "metadata": {
  "kernelspec": {
   "display_name": "Python 3 (ipykernel)",
   "language": "python",
   "name": "python3"
  },
  "language_info": {
   "codemirror_mode": {
    "name": "ipython",
    "version": 3
   },
   "file_extension": ".py",
   "mimetype": "text/x-python",
   "name": "python",
   "nbconvert_exporter": "python",
   "pygments_lexer": "ipython3",
   "version": "3.9.6"
  }
 },
 "nbformat": 4,
 "nbformat_minor": 5
}
