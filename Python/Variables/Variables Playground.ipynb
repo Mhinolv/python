{
 "cells": [
  {
   "cell_type": "markdown",
   "id": "01de3515-bf3a-4b73-ad11-3df4a3d805e2",
   "metadata": {},
   "source": [
    "# Variables\n",
    "**Types:** <br>\n",
    "Integer - 6 <br>\n",
    "String - 'ABC' <br>\n",
    "List - [1,2,3]"
   ]
  },
  {
   "cell_type": "markdown",
   "id": "949df671-985f-4f78-9940-675611ff83ac",
   "metadata": {},
   "source": [
    "### Integers"
   ]
  },
  {
   "cell_type": "code",
   "execution_count": 1,
   "id": "73fec06a-1802-42c3-9a32-ddef61b03fec",
   "metadata": {},
   "outputs": [],
   "source": [
    "a = 2\n",
    "b = 5"
   ]
  },
  {
   "cell_type": "markdown",
   "id": "9503c6e2-476b-47c1-bbd7-03d22be9386c",
   "metadata": {},
   "source": [
    "**Arithmetic operations**"
   ]
  },
  {
   "cell_type": "code",
   "execution_count": 2,
   "id": "fa29bee4-0225-4828-91ff-dd1e651b9f57",
   "metadata": {},
   "outputs": [
    {
     "data": {
      "text/plain": [
       "7"
      ]
     },
     "execution_count": 2,
     "metadata": {},
     "output_type": "execute_result"
    }
   ],
   "source": [
    "a + b"
   ]
  },
  {
   "cell_type": "code",
   "execution_count": 3,
   "id": "9b74528e-c9b9-4b64-8cac-861666cfd1ec",
   "metadata": {},
   "outputs": [
    {
     "data": {
      "text/plain": [
       "-3"
      ]
     },
     "execution_count": 3,
     "metadata": {},
     "output_type": "execute_result"
    }
   ],
   "source": [
    "a - b"
   ]
  },
  {
   "cell_type": "code",
   "execution_count": 4,
   "id": "14863f02-7212-4dc2-a4f6-22c6a82a9200",
   "metadata": {},
   "outputs": [
    {
     "data": {
      "text/plain": [
       "2"
      ]
     },
     "execution_count": 4,
     "metadata": {},
     "output_type": "execute_result"
    }
   ],
   "source": [
    "a % b"
   ]
  },
  {
   "cell_type": "code",
   "execution_count": 5,
   "id": "e62d8abc-e5d1-45e9-88cf-adfb7e8e4c3b",
   "metadata": {},
   "outputs": [
    {
     "data": {
      "text/plain": [
       "1"
      ]
     },
     "execution_count": 5,
     "metadata": {},
     "output_type": "execute_result"
    }
   ],
   "source": [
    "b % a"
   ]
  },
  {
   "cell_type": "markdown",
   "id": "46a858cd-d210-47b7-baba-75e4134f745d",
   "metadata": {},
   "source": [
    "**Comparison operations**"
   ]
  },
  {
   "cell_type": "code",
   "execution_count": 6,
   "id": "e6d903f1-8740-4abf-a3d4-76510f964589",
   "metadata": {},
   "outputs": [
    {
     "data": {
      "text/plain": [
       "False"
      ]
     },
     "execution_count": 6,
     "metadata": {},
     "output_type": "execute_result"
    }
   ],
   "source": [
    "a == b"
   ]
  },
  {
   "cell_type": "code",
   "execution_count": 7,
   "id": "0d93baab-de0c-44b4-a1f3-967c6ba381fd",
   "metadata": {},
   "outputs": [
    {
     "data": {
      "text/plain": [
       "True"
      ]
     },
     "execution_count": 7,
     "metadata": {},
     "output_type": "execute_result"
    }
   ],
   "source": [
    "a != b"
   ]
  },
  {
   "cell_type": "code",
   "execution_count": 9,
   "id": "922f7265-ff8f-4cb3-b4c9-8a1d25dcfe64",
   "metadata": {},
   "outputs": [
    {
     "data": {
      "text/plain": [
       "False"
      ]
     },
     "execution_count": 9,
     "metadata": {},
     "output_type": "execute_result"
    }
   ],
   "source": [
    "a > b"
   ]
  },
  {
   "cell_type": "code",
   "execution_count": 24,
   "id": "cc9016a1-d87b-4df6-8ef5-0bc4cb307f21",
   "metadata": {},
   "outputs": [
    {
     "data": {
      "text/plain": [
       "False"
      ]
     },
     "execution_count": 24,
     "metadata": {},
     "output_type": "execute_result"
    }
   ],
   "source": [
    "b > a"
   ]
  },
  {
   "cell_type": "code",
   "execution_count": 25,
   "id": "ddd5e10c-49f8-4722-a6a2-1a18fcb7db0d",
   "metadata": {},
   "outputs": [
    {
     "data": {
      "text/plain": [
       "5"
      ]
     },
     "execution_count": 25,
     "metadata": {},
     "output_type": "execute_result"
    }
   ],
   "source": [
    "a | b"
   ]
  },
  {
   "cell_type": "markdown",
   "id": "7c663ffe-9204-4a22-aec1-08fcb87c7293",
   "metadata": {},
   "source": [
    "**Redifinition**"
   ]
  },
  {
   "cell_type": "code",
   "execution_count": 11,
   "id": "76e550e2-b11b-4f7b-aab7-7156a3b856d6",
   "metadata": {},
   "outputs": [],
   "source": [
    "a = b"
   ]
  },
  {
   "cell_type": "code",
   "execution_count": 12,
   "id": "865edc90-05e6-4ec4-9084-88a58f453b77",
   "metadata": {},
   "outputs": [
    {
     "data": {
      "text/plain": [
       "5"
      ]
     },
     "execution_count": 12,
     "metadata": {},
     "output_type": "execute_result"
    }
   ],
   "source": [
    "a"
   ]
  },
  {
   "cell_type": "code",
   "execution_count": 13,
   "id": "3db64b67-42c6-4993-91bd-69d548a51855",
   "metadata": {},
   "outputs": [
    {
     "data": {
      "text/plain": [
       "5"
      ]
     },
     "execution_count": 13,
     "metadata": {},
     "output_type": "execute_result"
    }
   ],
   "source": [
    "b"
   ]
  },
  {
   "cell_type": "markdown",
   "id": "9a1772a8-e284-409e-b396-6bfcae971722",
   "metadata": {},
   "source": [
    "### Strings"
   ]
  },
  {
   "cell_type": "code",
   "execution_count": 1,
   "id": "222f2ceb-9dd5-4d86-80bd-f15446c46ee2",
   "metadata": {},
   "outputs": [],
   "source": [
    "c = 'cat'\n",
    "d = 'dog'"
   ]
  },
  {
   "cell_type": "code",
   "execution_count": 2,
   "id": "196f0023-ed80-441b-b6c3-61761f9d739d",
   "metadata": {},
   "outputs": [
    {
     "data": {
      "text/plain": [
       "'catdog'"
      ]
     },
     "execution_count": 2,
     "metadata": {},
     "output_type": "execute_result"
    }
   ],
   "source": [
    "c + d"
   ]
  },
  {
   "cell_type": "code",
   "execution_count": 20,
   "id": "2a0de2a8-aefa-4e15-9e20-3bd6ad2b7666",
   "metadata": {},
   "outputs": [
    {
     "data": {
      "text/plain": [
       "'cat'"
      ]
     },
     "execution_count": 20,
     "metadata": {},
     "output_type": "execute_result"
    }
   ],
   "source": [
    "c[0:3]"
   ]
  },
  {
   "cell_type": "code",
   "execution_count": 22,
   "id": "6791984b-2707-4547-b2b6-5a51871a7c9f",
   "metadata": {},
   "outputs": [
    {
     "data": {
      "text/plain": [
       "False"
      ]
     },
     "execution_count": 22,
     "metadata": {},
     "output_type": "execute_result"
    }
   ],
   "source": [
    "c == d"
   ]
  },
  {
   "cell_type": "code",
   "execution_count": 23,
   "id": "651aac07-3b1a-4e80-a137-50c0f9d5d7bf",
   "metadata": {},
   "outputs": [
    {
     "data": {
      "text/plain": [
       "True"
      ]
     },
     "execution_count": 23,
     "metadata": {},
     "output_type": "execute_result"
    }
   ],
   "source": [
    "c != d"
   ]
  },
  {
   "cell_type": "markdown",
   "id": "8d444334-92d6-4f39-9062-7090cb2148b5",
   "metadata": {},
   "source": [
    "### Lists "
   ]
  },
  {
   "cell_type": "code",
   "execution_count": 26,
   "id": "fdb9808f-560c-4d81-a935-a1da97b81647",
   "metadata": {},
   "outputs": [],
   "source": [
    "e = [1,2,3]\n",
    "f = [5,6,7]"
   ]
  },
  {
   "cell_type": "code",
   "execution_count": 28,
   "id": "1d633e36-703a-49cf-aeb0-8030ba2fd21d",
   "metadata": {},
   "outputs": [],
   "source": [
    " g = e + f"
   ]
  },
  {
   "cell_type": "code",
   "execution_count": 29,
   "id": "d27d7106-c0dd-4829-ac19-d16d31e68965",
   "metadata": {},
   "outputs": [
    {
     "data": {
      "text/plain": [
       "[1, 2, 3, 5, 6, 7]"
      ]
     },
     "execution_count": 29,
     "metadata": {},
     "output_type": "execute_result"
    }
   ],
   "source": [
    "g"
   ]
  },
  {
   "cell_type": "code",
   "execution_count": 30,
   "id": "0d8c9b7d-d853-417f-a359-7286dafb8bde",
   "metadata": {},
   "outputs": [
    {
     "data": {
      "text/plain": [
       "[1, 2, 3, 5, 6, 7]"
      ]
     },
     "execution_count": 30,
     "metadata": {},
     "output_type": "execute_result"
    }
   ],
   "source": [
    "g[0:]"
   ]
  },
  {
   "cell_type": "code",
   "execution_count": null,
   "id": "26cdcede-c289-4ac3-9a9f-bca8d257d2ed",
   "metadata": {},
   "outputs": [],
   "source": []
  }
 ],
 "metadata": {
  "kernelspec": {
   "display_name": "Python 3 (ipykernel)",
   "language": "python",
   "name": "python3"
  },
  "language_info": {
   "codemirror_mode": {
    "name": "ipython",
    "version": 3
   },
   "file_extension": ".py",
   "mimetype": "text/x-python",
   "name": "python",
   "nbconvert_exporter": "python",
   "pygments_lexer": "ipython3",
   "version": "3.9.6"
  }
 },
 "nbformat": 4,
 "nbformat_minor": 5
}
